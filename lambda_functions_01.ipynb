{
 "cells": [
  {
   "cell_type": "markdown",
   "metadata": {},
   "source": [
    "# Python lambda functions\n",
    "Anonymous single-use, or throw-away functions.\\\n",
    "lambda arguments: expression \\\n",
    "here are some single-argument lambdas:"
   ]
  },
  {
   "cell_type": "code",
   "execution_count": 3,
   "metadata": {},
   "outputs": [
    {
     "data": {
      "text/plain": [
       "10"
      ]
     },
     "execution_count": 3,
     "metadata": {},
     "output_type": "execute_result"
    }
   ],
   "source": [
    "add_5 = lambda x: x + 5\n",
    "add_5(5)"
   ]
  },
  {
   "cell_type": "code",
   "execution_count": 4,
   "metadata": {},
   "outputs": [
    {
     "name": "stdout",
     "output_type": "stream",
     "text": [
      "36\n"
     ]
    }
   ],
   "source": [
    "square = lambda y: y*y\n",
    "print(square(6))"
   ]
  },
  {
   "cell_type": "markdown",
   "metadata": {},
   "source": [
    "### lambda as an argument in other function:\n",
    "one of the most popular uses for lambda functions is as an argument inside sort, or filter functions.\n",
    "\n",
    "\n",
    "\n",
    "### Sorting list of tuples using keys:"
   ]
  },
  {
   "cell_type": "code",
   "execution_count": 6,
   "metadata": {},
   "outputs": [
    {
     "name": "stdout",
     "output_type": "stream",
     "text": [
      "[('carrots', 1.1), ('eggs', 5.55), ('peaches', 8.89), ('honey', 9.78)]\n"
     ]
    }
   ],
   "source": [
    "list1 = [('eggs',5.55),('honey',9.78),('carrots',1.10),('peaches',8.89)]\n",
    "list1.sort(key = lambda x: x[1])\n",
    "print(list1)"
   ]
  },
  {
   "cell_type": "markdown",
   "metadata": {},
   "source": [
    "### Sorting list of Dictionaries using lambda"
   ]
  },
  {
   "cell_type": "code",
   "execution_count": 10,
   "metadata": {},
   "outputs": [
    {
     "name": "stdout",
     "output_type": "stream",
     "text": [
      "\n",
      "Dictionary with main sorting:\n",
      "[{'Model': 'cow', 'car': 'Ford', 'year': '1992'},\n",
      " {'Model': 'totsi', 'car': 'honda', 'year': '1991'},\n",
      " {'Model': 'dani', 'car': 'hundai', 'year': '1993'}]\n",
      "\n",
      "Dictionary with year sorting:\n",
      "[{'Model': 'totsi', 'car': 'honda', 'year': '1991'},\n",
      " {'Model': 'cow', 'car': 'Ford', 'year': '1992'},\n",
      " {'Model': 'dani', 'car': 'hundai', 'year': '1993'}]\n"
     ]
    }
   ],
   "source": [
    "import pprint as pp\n",
    "list1 = [{'car': 'Ford' , 'Model' : 'cow' , 'year' : '1992'},{'car': 'honda' , 'Model' : 'totsi' , 'year' : '1991'},{'car': 'hundai' , 'Model' : 'dani' , 'year' : '1993'}]\n",
    "list2 = sorted(list1 , key = lambda x : x['year'])\n",
    "print()\n",
    "print('Dictionary with main sorting:')\n",
    "pp.pprint(list1)\n",
    "print()\n",
    "print('Dictionary with year sorting:')\n",
    "pp.pprint(list2)"
   ]
  },
  {
   "cell_type": "markdown",
   "metadata": {},
   "source": [
    "### Filtering a List of Integers using Lambda "
   ]
  },
  {
   "cell_type": "code",
   "execution_count": 13,
   "metadata": {},
   "outputs": [
    {
     "name": "stdout",
     "output_type": "stream",
     "text": [
      "[2, 4, 6]\n"
     ]
    }
   ],
   "source": [
    "list1 = [1,2,3,4,5,6]\n",
    "list2 = list(filter(lambda x: x%2 == 0,list1))\n",
    "print(list2)"
   ]
  },
  {
   "cell_type": "markdown",
   "metadata": {},
   "source": [
    "### lambda function on a list using map\n",
    "\n",
    "python's map function applies the lambda to every element in the list."
   ]
  },
  {
   "cell_type": "code",
   "execution_count": 12,
   "metadata": {},
   "outputs": [
    {
     "name": "stdout",
     "output_type": "stream",
     "text": [
      "[1, 4, 9, 16, 25, 36]\n"
     ]
    }
   ],
   "source": [
    "list1 = [1,2,3,4,5,6]\n",
    "list2 = list(map(lambda x: x ** 2,list1))\n",
    "print(list2)"
   ]
  },
  {
   "cell_type": "code",
   "execution_count": 14,
   "metadata": {},
   "outputs": [
    {
     "name": "stdout",
     "output_type": "stream",
     "text": [
      "[1, 4, 9, 16, 25, 36]\n"
     ]
    }
   ],
   "source": [
    "#other way:\n",
    "odd = lambda x: x ** 2\n",
    "list1 = [1,2,3,4,5,6]\n",
    "list2 = list(map(odd,list1))\n",
    "print(list2)"
   ]
  },
  {
   "cell_type": "markdown",
   "metadata": {},
   "source": [
    "### lambda conditionals \n",
    "lambda args: a if boolean_expression else b"
   ]
  },
  {
   "cell_type": "code",
   "execution_count": 13,
   "metadata": {},
   "outputs": [
    {
     "name": "stdout",
     "output_type": "stream",
     "text": [
      "True\n"
     ]
    }
   ],
   "source": [
    "starts_with_J = lambda x,y: True if x.startswith(y) else False\n",
    "print(starts_with_J('Jamal','J'))"
   ]
  },
  {
   "cell_type": "code",
   "execution_count": 14,
   "metadata": {},
   "outputs": [
    {
     "name": "stdout",
     "output_type": "stream",
     "text": [
      "and\n"
     ]
    }
   ],
   "source": [
    "wordb4 = lambda s,w: s.split()[s.split().index(w)-1] if w in s else None\n",
    "sentance = \"Four score and seven years ago\"\n",
    "print(wordb4(sentance,'seven'))"
   ]
  },
  {
   "cell_type": "markdown",
   "metadata": {},
   "source": [
    "### lambda on DateTime objects\n",
    "you sometimes just want t get the year,moth,day or time , for comarison.\\\n",
    "this would be typically be the most useful as parameter in sort or filter functions."
   ]
  },
  {
   "cell_type": "code",
   "execution_count": 16,
   "metadata": {},
   "outputs": [
    {
     "name": "stdout",
     "output_type": "stream",
     "text": [
      "2020-07-29 22:11:29.762360\n",
      "2020\n"
     ]
    }
   ],
   "source": [
    "import datetime\n",
    "now = datetime.datetime.now()\n",
    "print(now)\n",
    "year = lambda x: x.year\n",
    "print(year(now))"
   ]
  },
  {
   "cell_type": "code",
   "execution_count": 17,
   "metadata": {},
   "outputs": [
    {
     "name": "stdout",
     "output_type": "stream",
     "text": [
      "4096\n",
      "125\n"
     ]
    }
   ],
   "source": [
    "def do_something(f, val):\n",
    "    return f(val)\n",
    "\n",
    "func = lambda x: x**3\n",
    "print(func(16))\n",
    "print(do_something(func, 5))"
   ]
  },
  {
   "cell_type": "markdown",
   "metadata": {},
   "source": [
    "### Extreme Lambdas \n",
    "This is probably a stretch -- you shouldn't be trying to do this much with Lambdas.\\\n",
    "Some things are better done in a regular function. But this shows what's possible with Lambdas.\\"
   ]
  },
  {
   "cell_type": "code",
   "execution_count": 18,
   "metadata": {},
   "outputs": [
    {
     "name": "stdout",
     "output_type": "stream",
     "text": [
      "True\n",
      "True\n",
      "False\n",
      "False\n",
      "True\n",
      "-1\n",
      "-21.67 <class 'float'>\n"
     ]
    }
   ],
   "source": [
    "isnum = lambda q: q.replace('.','',1).isdigit()\n",
    "print(isnum('25983'))\n",
    "print(isnum('3.1415'))\n",
    "print(isnum('T57'))\n",
    "print(isnum('-16'))\n",
    "\n",
    "is_num = lambda r: isnum(r[1:]) if r[0]=='-' else isnum(r)\n",
    "print(is_num('-16.4'))\n",
    "\n",
    "tonum = lambda s: float(s) if is_num(s) else -1\n",
    "print(tonum('30y'))\n",
    "print(tonum('-21.67'), type(tonum('-21.67')))"
   ]
  },
  {
   "cell_type": "code",
   "execution_count": null,
   "metadata": {},
   "outputs": [],
   "source": []
  }
 ],
 "metadata": {
  "kernelspec": {
   "display_name": "Python 3",
   "language": "python",
   "name": "python3"
  },
  "language_info": {
   "codemirror_mode": {
    "name": "ipython",
    "version": 3
   },
   "file_extension": ".py",
   "mimetype": "text/x-python",
   "name": "python",
   "nbconvert_exporter": "python",
   "pygments_lexer": "ipython3",
   "version": "3.6.9"
  }
 },
 "nbformat": 4,
 "nbformat_minor": 4
}
